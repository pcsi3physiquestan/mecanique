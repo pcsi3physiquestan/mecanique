{
 "cells": [
  {
   "cell_type": "markdown",
   "id": "precise-dayton",
   "metadata": {},
   "source": [
    "# Cinématique du point\n",
    "\n",
    "````{admonition} Objectifs\n",
    ":class: tip\n",
    "* Etablir les expressions du vecteur vitesse, du vecteur accélération et du vecteur position dans le cas des coordonnées cartésiennes et cylindriques.\n",
    "* Etablir les expressions du vecteur position et du vecteur vitesse dans le cas des coordonnées sphériques. Savoir établir l'expression du vecteur accélération dans des cas simples.\n",
    "* Etablir, à partir d'un schéma, le déplacement élémentaire dans les différents systèmes de coordonnées. Construire le tridère local associé à chaque système de coordonnées et en déduire les composantes du vecteur vitesse.\n",
    "* Choisir un système de coordonnées adapté au problème posé.\n",
    "* Cas du mouvement circulaire: Exprimer les composantes du vecteur position, du vecteur vitesse et du vecteur accélération en coordonnées polaires.\n",
    "* Cas du mouvement circulaire: Identifier le lien entre le vecteur accélération, la courbure de la trajectoire, la norme du vecteur vitesse et sa variation temporelle.\n",
    "* Situer qualitativement le vecteur accélération dans la concavité d'une trajectoire plane.\n",
    "````"
   ]
  }
 ],
 "metadata": {
  "jupytext": {
   "encoding": "# -*- coding: utf-8 -*-",
   "formats": "ipynb,md:myst",
   "split_at_heading": true,
   "text_representation": {
    "extension": ".md",
    "format_name": "myst",
    "format_version": 0.13,
    "jupytext_version": "1.10.3"
   }
  },
  "kernelspec": {
   "display_name": "Python 3",
   "language": "python",
   "name": "python3"
  },
  "language_info": {
   "codemirror_mode": {
    "name": "ipython",
    "version": 3
   },
   "file_extension": ".py",
   "mimetype": "text/x-python",
   "name": "python",
   "nbconvert_exporter": "python",
   "pygments_lexer": "ipython3",
   "version": "3.9.2"
  },
  "source_map": [
   15
  ]
 },
 "nbformat": 4,
 "nbformat_minor": 5
}