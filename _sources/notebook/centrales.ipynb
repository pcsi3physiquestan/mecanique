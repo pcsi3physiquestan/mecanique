{
 "cells": [
  {
   "cell_type": "markdown",
   "id": "21fabe0c",
   "metadata": {},
   "source": [
    "# Mouvement à force centrales\n",
    "\n",
    "````{admonition} Compétences\n",
    ":class: tip\n",
    "* Déduire du théorème du moment cinétique la conservation du moment cinétique\n",
    "* Connaître les conséquences de la conservation du moment cinétique: mouvement plan et loi des aires\n",
    "* Exprimer la conservation de l'énergie mécanique et construire une énergie potentielle effective.\n",
    "* Décrire qualitativement le mouvement radial à l'aide de l'énergie potentielle.\n",
    "* Relier le caractère borné à la valeur de l'énergie mécanique\n",
    "\n",
    "Cas des forces newtoniennes\n",
    "* Evaluer les ordres de grandeurs des forces électriques ou magnétiques et les comparer à ceux des forces gravitationnelles.\n",
    "* Connaître les types de trajectoire possibles pour une force newtonienne.\n",
    "* Relier la trajectoire possible au signe de l'énergie mécanique et à l'excentricité.\n",
    "* Enoncer les lois de Kepler pour les planètes et les transposer au cas des satellites terrestres.\n",
    "* Montrer, dans le cas d'un mouvement circulaire, que le mouvement est uniforme et savoir calculer sa période.\n",
    "* Etablir la troisième loi de Kepler dans le cas particulier de la trajectoire circulaire. Exploiter sa généralisation au cas d'une trajectoire elliptique.\n",
    "* Exprimer l'énergie mécanique pour le mouvement circulaire et pour le mouvement elliptique en fonction du demi-grand axe.\n",
    "* Calculer l'altitude d'un satellite géostationnaire et justifier sa localisation dans le plan équatorial.\n",
    "* Exprimer ces vitesses et connaître leur ordre de grandeur en dynamique terrestre.\n",
    "````"
   ]
  }
 ],
 "metadata": {
  "jupytext": {
   "encoding": "# -*- coding: utf-8 -*-",
   "formats": "ipynb,md:myst",
   "split_at_heading": true,
   "text_representation": {
    "extension": ".md",
    "format_name": "myst",
    "format_version": 0.13,
    "jupytext_version": "1.10.3"
   }
  },
  "kernelspec": {
   "display_name": "Python 3",
   "language": "python",
   "name": "python3"
  },
  "language_info": {
   "codemirror_mode": {
    "name": "ipython",
    "version": 3
   },
   "file_extension": ".py",
   "mimetype": "text/x-python",
   "name": "python",
   "nbconvert_exporter": "python",
   "pygments_lexer": "ipython3",
   "version": "3.9.15"
  },
  "source_map": [
   15
  ]
 },
 "nbformat": 4,
 "nbformat_minor": 5
}