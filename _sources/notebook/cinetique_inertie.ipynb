{
 "cells": [
  {
   "cell_type": "markdown",
   "id": "52fdc0ed",
   "metadata": {},
   "source": [
    "# Point matériel et inertie\n",
    "\n",
    "````{sidebar} Utilisation du point matériel\n",
    "Le point matériel possède trois utilité:\n",
    "\n",
    "* toutes les lois fondamentales de la mécanique concerne le système \"point matériel\"\n",
    "* il sert à la description d'un système mécanique qui sera constitué d'un ensemble de points matériels (cf. suite).\n",
    "* il permet la modélisation simplifiée d'un système mécanique qu'on va __assimilé__ à un point matériel seul. Il s'agit d'une modélisation qui n'est valable que si la rotation ou la déformation du système mécanique n'a pas d'influence sur le mouvement global du système mécanique (ou n'existe pas).\n",
    "````\n",
    "````{important} __Point matériel__\n",
    "* Un point matériel est une modélisation idéalisée d'un objet ponctuel matériel, c'est-à-dire d'une portion infinitésimale de matière.\n",
    "* Un point matériel ne nécessite que la données de 3 coordonnées de repérage dans l'espace et de masse (cf. suite).\n",
    "````\n",
    "\n",
    "````{topic} Modélisation valable et non valable par un point matériel seul.\n",
    "* Un ballon lancé dans l'air peut être assimilé à un point matériel si l'influence de l'air (frottements) est négligées ou si la rotation du ballon est relativement faible. Son mouvement sera identique au point considérée. Nous verrons par la suite que le point auquel on assimile le ballon est son centre d'inertie.\n",
    "* Un ballon qui roule sur un plan incliné ne peut être assimilé à un point. En effet, la nature du contact entre le ballon et le plan (roulement sans glissement ou non... ) a une influence essentielle sur le mouvement du ballon. On doit tenir compte de la rotation du ballon.\n",
    "\n",
    "````\n",
    "\n",
    "````{margin}\n",
    "Par la suite, on parlera de \"masse\" sans préciser qu'il s'agit de masse inertielle.\n",
    "````\n",
    "````{important} __Masse intertielle.__\n",
    "* La capacité que possède un objet matériel à résister à toute variation de mouvement est appelé __inertie__.\n",
    "    * Pour un point matériel, la propriété d'inertie est représentée par une grandeur scalaire positive appelée __masse inertielle__  dans l'unité est le kg. Plus la masse inertielle d'un objet est grande, plus il est difficile de modifier sa vitesse.\n",
    "\n",
    "La masse est inertielle est indépendante du temps et du référentiel considéré: il s'agit d'une caractéristique propre au point matériel. Pour un système fermé (n'échangeant pas de matière), elle est conservée.\n",
    "\n",
    "````\n",
    "\n",
    "````{topic} Exemple \n",
    "* Un joueur de ping-pong peut renvoyer sans problème une balle de ping-pong avec sa raquette mais ne pourra renvoyer une boule de billard, même si les deux ont la même vitesse.\n",
    "* De même, il est plus facile de mettre en mouvement ou d'arrêter le mouvement d'une poussette avec ses simple bras que celui d'une voiture.\n",
    "\n",
    "Dans les deux cas, la voiture et la boule de billard résistent plus à une variation de leur vitesse (norme ou orientation): le paramètre qui caractérise cette différence est leur masse.\n",
    "````"
   ]
  }
 ],
 "metadata": {
  "jupytext": {
   "encoding": "# -*- coding: utf-8 -*-",
   "formats": "ipynb,md:myst",
   "split_at_heading": true,
   "text_representation": {
    "extension": ".md",
    "format_name": "myst",
    "format_version": 0.13,
    "jupytext_version": "1.10.3"
   }
  },
  "kernelspec": {
   "display_name": "Python 3",
   "language": "python",
   "name": "python3"
  },
  "language_info": {
   "codemirror_mode": {
    "name": "ipython",
    "version": 3
   },
   "file_extension": ".py",
   "mimetype": "text/x-python",
   "name": "python",
   "nbconvert_exporter": "python",
   "pygments_lexer": "ipython3",
   "version": "3.9.15"
  },
  "source_map": [
   15
  ]
 },
 "nbformat": 4,
 "nbformat_minor": 5
}