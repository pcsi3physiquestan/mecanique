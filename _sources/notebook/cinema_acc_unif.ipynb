{
 "cells": [
  {
   "cell_type": "markdown",
   "id": "diagnostic-restaurant",
   "metadata": {},
   "source": [
    "# Mouvement uniformément accéléré\n",
    "\n",
    "\n",
    "Nous allons ici étudié le cas simple d'un mouvement uniformément accéléré. Ses caractéristiques sont à savoir redémontrer.\n",
    "\n",
    "\n",
    "````{admonition} Exercice \n",
    ":class: attention\n",
    "\n",
    "On considère un point M donc le vecteur accélération est constant. Déterminer l'équation horaire du point M pour une vitesse initiale $\\overrightarrow{v_0}$ et une position initiale $M_0$ à $t = 0$.\n",
    "\n",
    "````\n",
    "````{dropdown} Résolution\n",
    "\n",
    ">La direction du vecteur accélération étant constante, on va particulariser cet axe en le choisissant comme axe Oz. On pose le point O confondu avec $M_0$ et on choisit un système de coordonnées cartésiennes dont l'axe Ox est tel que le vecteur vitesse initiale soit plan xOz. On peut donc écrire  que:\n",
    ">\n",
    ">\\begin{align*}\n",
    "\\overrightarrow{a} &= a_0 \\overrightarrow{e_z}\\\\\n",
    "\\overrightarrow{v} &= v_{0x} \\overrightarrow{e_x} + v_{0z} \\overrightarrow{e_z}\n",
    "\\end{align*}\n",
    ">\n",
    ">Par projection, on trouve que:\n",
    ">\n",
    ">\\begin{align*}\n",
    "\\frac{\\rm{d}v_x}{\\rm{dt}} &= 0\\\\\n",
    "\\frac{\\rm{d}v_y}{\\rm{dt}} &= 0\\\\\n",
    "\\frac{\\rm{d}v_z}{\\rm{dt}} &= a_0\n",
    "\\end{align*}\n",
    ">soit par intégration:\n",
    ">\n",
    ">\\begin{align*}\n",
    "v_x &= v_{0x} \\Longrightarrow x(t) = v_{0x} t + x_0\\\\\n",
    "v_x &= 0 \\Longrightarrow x(t) = y_0\\\\\n",
    "v_x &= v_{0z} + a_0t \\Longrightarrow x(t) = \\frac{a_0}{2} t^2 + v_{0z} t + z_0\n",
    "\\end{align*}\n",
    ">Comme nous le verrons, on peut montrer qu'une telle équation est celle d'une parabole.\n",
    "\n",
    "````"
   ]
  }
 ],
 "metadata": {
  "jupytext": {
   "encoding": "# -*- coding: utf-8 -*-",
   "formats": "ipynb,md:myst",
   "split_at_heading": true,
   "text_representation": {
    "extension": ".md",
    "format_name": "myst",
    "format_version": 0.13,
    "jupytext_version": "1.10.3"
   }
  },
  "kernelspec": {
   "display_name": "Python 3",
   "language": "python",
   "name": "python3"
  },
  "language_info": {
   "codemirror_mode": {
    "name": "ipython",
    "version": 3
   },
   "file_extension": ".py",
   "mimetype": "text/x-python",
   "name": "python",
   "nbconvert_exporter": "python",
   "pygments_lexer": "ipython3",
   "version": "3.9.2"
  },
  "source_map": [
   15
  ]
 },
 "nbformat": 4,
 "nbformat_minor": 5
}