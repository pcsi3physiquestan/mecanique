{
 "cells": [
  {
   "cell_type": "markdown",
   "id": "4b78c3fc",
   "metadata": {},
   "source": [
    "# Dynamique du point matériel\n",
    "\n",
    "La cinématique ne fait que décrire le mouvement d'un point. Pour connaître les causes des modifications d'un mouvement, il faut étudier la dynamique et le concept d'actions/de force.\n",
    "\n",
    "````{admonition} Compétences\n",
    ":class: tip\n",
    "* Décrire le mouvement relatif de deux référentiels galiléens\n",
    "* Déterminer les équations du mouvement d'un point matériel ou du centre d'inertie d'un système fermé.\n",
    "* Mettre en équation le mouvement sans frottements d'un système dans un champ de pesanteur.\n",
    "* Prendre en compte la traînée pour modéliser une situation réelle.\n",
    "* Appliquer le théorème du moment cinétique sur un axe ou un point\n",
    "* Établir un bilan des actions sur un système ou plusieurs systèmes en interaction.\n",
    "* Établir une relation graphique ou analytique entre des forces modélisant des actions sur un point matériel dans un cas statique.\n",
    "* Prévoir qualitativement l'effet d'une force résultante l'évolution d'un point matériel.\n",
    "* Connaître les cas d'actions ponctuelles usuelles et leurs expressions: rappel d'un ressort, interaction gravitationnelle, interaction coulombiennes, force de Lorentz, action du champ de pesanteur, tension d'un fil... \n",
    "* Calculer le moment d'une action ponctuelle sur un axe ou par rapport à un point.\n",
    "* Interprêter le moment d'une action ponctuelle en terme d'effet sur la rotation d'un point matériel.\n",
    "````"
   ]
  }
 ],
 "metadata": {
  "jupytext": {
   "encoding": "# -*- coding: utf-8 -*-",
   "formats": "ipynb,md:myst",
   "split_at_heading": true,
   "text_representation": {
    "extension": ".md",
    "format_name": "myst",
    "format_version": 0.13,
    "jupytext_version": "1.10.3"
   }
  },
  "kernelspec": {
   "display_name": "Python 3",
   "language": "python",
   "name": "python3"
  },
  "language_info": {
   "codemirror_mode": {
    "name": "ipython",
    "version": 3
   },
   "file_extension": ".py",
   "mimetype": "text/x-python",
   "name": "python",
   "nbconvert_exporter": "python",
   "pygments_lexer": "ipython3",
   "version": "3.7.12"
  },
  "source_map": [
   15
  ]
 },
 "nbformat": 4,
 "nbformat_minor": 5
}