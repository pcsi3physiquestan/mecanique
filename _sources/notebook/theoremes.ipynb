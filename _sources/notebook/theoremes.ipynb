{
 "cells": [
  {
   "cell_type": "markdown",
   "id": "associate-dialogue",
   "metadata": {},
   "source": [
    "# Théorèmes fondamentaux de la mécanique classique\n",
    "\n",
    "````{admonition} Objectifs\n",
    ":class: tip\n",
    "* Décrire le mouvement relatif de deux référentiels galiléens\n",
    "* Déterminer les équations du mouvement d'un point matériel ou du centre d'inertie d'un système fermé.\n",
    "* Mettre en équation le mouvement sans frottements d'un système dans un champ de pesanteur.\n",
    "* Prendre en compte la traînée pour modéliser une situation réelle.\n",
    "* Appliquer le théorème du moment cinétique sur un axe ou un point\n",
    "````"
   ]
  }
 ],
 "metadata": {
  "jupytext": {
   "encoding": "# -*- coding: utf-8 -*-",
   "formats": "ipynb,md:myst",
   "split_at_heading": true,
   "text_representation": {
    "extension": ".md",
    "format_name": "myst",
    "format_version": 0.13,
    "jupytext_version": "1.10.3"
   }
  },
  "kernelspec": {
   "display_name": "Python 3",
   "language": "python",
   "name": "python3"
  },
  "language_info": {
   "codemirror_mode": {
    "name": "ipython",
    "version": 3
   },
   "file_extension": ".py",
   "mimetype": "text/x-python",
   "name": "python",
   "nbconvert_exporter": "python",
   "pygments_lexer": "ipython3",
   "version": "3.9.2"
  },
  "source_map": [
   15
  ]
 },
 "nbformat": 4,
 "nbformat_minor": 5
}