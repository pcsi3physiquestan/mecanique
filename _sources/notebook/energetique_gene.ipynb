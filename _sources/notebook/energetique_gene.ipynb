{
 "cells": [
  {
   "cell_type": "markdown",
   "id": "checked-ratio",
   "metadata": {},
   "source": [
    "# Théorèmes énergétiques\n",
    "````{admonition} Objectifs\n",
    ":class: hint\n",
    "* Calculer la puissance et le travail d'une force\n",
    "* Reconnaître le caractère moteur ou résistant d'une force.\n",
    "* Savoir que la puissance dépend du référentiel\n",
    "* Utiliser le théorème de l'énergie cinétique ou le théorème de la puissance cinétique de manière appropriée en fonction des contextes\n",
    "* Utiliser le théorème de l'énergie mécanique ou le théorème de la puissance mécanique de manière appropriée en fonction des contextes\n",
    "* Établir et connaître l'expression de l'énergie potentielle de pesanteur, gravitationnelle, élastique, de torsion et électrostatique.\n",
    "* Distinguer forces conservatives et non conservatives. Reconnaître les cas de conservation de l'énergie mécanique.\n",
    "````"
   ]
  }
 ],
 "metadata": {
  "jupytext": {
   "encoding": "# -*- coding: utf-8 -*-",
   "formats": "ipynb,md:myst",
   "split_at_heading": true,
   "text_representation": {
    "extension": ".md",
    "format_name": "myst",
    "format_version": 0.13,
    "jupytext_version": "1.10.3"
   }
  },
  "kernelspec": {
   "display_name": "Python 3",
   "language": "python",
   "name": "python3"
  },
  "language_info": {
   "codemirror_mode": {
    "name": "ipython",
    "version": 3
   },
   "file_extension": ".py",
   "mimetype": "text/x-python",
   "name": "python",
   "nbconvert_exporter": "python",
   "pygments_lexer": "ipython3",
   "version": "3.9.2"
  },
  "source_map": [
   15
  ]
 },
 "nbformat": 4,
 "nbformat_minor": 5
}