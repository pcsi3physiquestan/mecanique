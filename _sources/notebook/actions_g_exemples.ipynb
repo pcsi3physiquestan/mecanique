{
 "cells": [
  {
   "cell_type": "markdown",
   "id": "peaceful-clinic",
   "metadata": {},
   "source": [
    "# Exemples d'analyse\n",
    "\n",
    "## Cube sur plan incliné\n",
    "\n",
    "````{admonition} Exercice \n",
    ":class: attention\n",
    "\n",
    "On reprend l'étude du cube sur un plan incliné.\n",
    "\n",
    "1. Représenter la force résultante de l'action du poids en un point judicieusement choisi.\n",
    "1. Le cube est immobile. Par une analyse du bilan des actions, représenter la force résultante de l'action du plan incliné sur le cube en un point judicieusement choisi.\n",
    "1. Que se passe-t-il si l'on incline trop le plan ?\n",
    "\n",
    "````\n",
    "\n",
    "## Cylindre sur plan incliné\n",
    "\n",
    "````{admonition} Exercice \n",
    ":class: attention\n",
    "\n",
    "On considère un cylindre de rayon R, de hauteur h et de masse M uniformément répartie placé sur un plan incliné d'angle $\\alpha$.\n",
    "\n",
    "1. Sur un plan de coupe, représenter les forces résultantes associées à chaque action extérieure sur le cylindre. On distinguera deux cas suivant le comportement de l'action de contact.\n",
    "1. Le cylindre peut-il rester immobile ? Peut-il glisser sans rouler ? Peut-il rouler sans glisser ? On expliquera ceci au moyen d'un bilan des actions.\n",
    "\n",
    "````\n",
    "\n",
    "## Balançoire\n",
    "\n",
    "````{admonition} Exercice \n",
    ":class: attention\n",
    "\n",
    "On considère une tige assimilable à un segment de masse M répartie maintenu horizontale par deux fils parfaits aux extrémités. On suppose qu'aux deux extrémités des fils, on a réalisé deux liaisons pivots parfaites.\n",
    "\n",
    "1. Quelles sont les mouvements possibles de la balançoire ?\n",
    "1. Les forces résultantes des deux fils sur la tige mobile sont-elles ?\n",
    "1. Faire un bilan des moments résultants extérieurs. Le comportement de la balançoire est-il ce qu'on attend ?\n",
    "\n",
    "````"
   ]
  }
 ],
 "metadata": {
  "jupytext": {
   "encoding": "# -*- coding: utf-8 -*-",
   "formats": "ipynb,md:myst",
   "split_at_heading": true,
   "text_representation": {
    "extension": ".md",
    "format_name": "myst",
    "format_version": 0.13,
    "jupytext_version": "1.10.3"
   }
  },
  "kernelspec": {
   "display_name": "Python 3",
   "language": "python",
   "name": "python3"
  },
  "language_info": {
   "codemirror_mode": {
    "name": "ipython",
    "version": 3
   },
   "file_extension": ".py",
   "mimetype": "text/x-python",
   "name": "python",
   "nbconvert_exporter": "python",
   "pygments_lexer": "ipython3",
   "version": "3.9.2"
  },
  "source_map": [
   15
  ]
 },
 "nbformat": 4,
 "nbformat_minor": 5
}