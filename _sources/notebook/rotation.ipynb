{
 "cells": [
  {
   "cell_type": "markdown",
   "id": "4a1b0081",
   "metadata": {},
   "source": [
    "# Activité : Solide en rotation autour d'un axe fixe\n",
    "\n",
    "Il s'agit ici de reprendre certaines idées générales et de préciser le cas d'étude des systèmes __déformables__ en rotation.\n",
    "\n",
    "\n",
    "## Solide indéformable\n",
    "\n",
    "### Rappel\n",
    "\n",
    "On rappelle quelques éléments utiles:\n",
    "\n",
    "* le moment cinétique du solide sur l'axe s'écrit comme le produit de la vitesse angulaire autour de l'axe par le moment d'inertie du système sur l'axe.\n",
    "* Le TMC permet de relier la vitesse de rotation aux différents moments s'appliquant sur le solide.\n",
    "* Le TRD sert en général à déterminer certaines force résultante comme celle de la liaison pivot.\n",
    "* La liaison pivot possède a priori un moment non nul sur son axe. Il n'est nul que si la liaison pivot est parfaite.\n",
    "* On a déjà étudié le cas des pendules pesant et de torsion.\n",
    "\n",
    "### Equivalience TMC-TEC\n",
    "\n",
    "````{important} __A retenir : Equivalence__\n",
    "\n",
    "Pour un solide __indéformable__ en __rotation autour d'un axe fixe__ dans un référentiel galiléen, le théorème de l'énergie cinétique et le théorème du moment cinétique sont équivalents.\n",
    "````\n",
    "\n",
    "_Le démontrer_\n",
    "\n",
    "## Solide déformable\n",
    "\n",
    "Nous allons nous intéresser au cas d'un assemblement de solide pouvant bouger les uns par rapport aux autres. L'ensemble sera en rotation autour d'un axe fixe mais les différentes partie ne tourneront pas forcément à la même vitesse.\n",
    "\n",
    "\n",
    "### Solide déformable: Théorèmes généraux\n",
    "\n",
    "````{important} __Fondamental : TEC et TMC__\n",
    "\n",
    "Si le solide est déformable, __le TEC et le TMC ne sont plus équivalents__.\n",
    "\n",
    "En général, le TEC/TEM n'apporte pas d'information à cause de puissances des forces intérieures qui ne sont pas quantifiables. On utilisera plutôt le TMC.\n",
    "\n",
    "Dans le cadre du programme, on sera en général amené à montrer que le moment cinétique est conservé.\n",
    "````\n",
    "\n",
    "### Utilisation de la conservation du moment cinétique\n",
    "\n",
    "````{admonition} Exercice \n",
    ":class: attention\n",
    "\n",
    "Observer l'expérience du tabouret d'inertie et proposer une modélisation permettant de l'expliquer.\n",
    "\n",
    "````"
   ]
  }
 ],
 "metadata": {
  "jupytext": {
   "encoding": "# -*- coding: utf-8 -*-",
   "formats": "ipynb,md:myst",
   "split_at_heading": true,
   "text_representation": {
    "extension": ".md",
    "format_name": "myst",
    "format_version": 0.13,
    "jupytext_version": "1.10.3"
   }
  },
  "kernelspec": {
   "display_name": "Python 3",
   "language": "python",
   "name": "python3"
  },
  "language_info": {
   "codemirror_mode": {
    "name": "ipython",
    "version": 3
   },
   "file_extension": ".py",
   "mimetype": "text/x-python",
   "name": "python",
   "nbconvert_exporter": "python",
   "pygments_lexer": "ipython3",
   "version": "3.9.15"
  },
  "source_map": [
   15
  ]
 },
 "nbformat": 4,
 "nbformat_minor": 5
}