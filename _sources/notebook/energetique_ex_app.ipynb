{
 "cells": [
  {
   "cell_type": "markdown",
   "id": "corporate-swift",
   "metadata": {},
   "source": [
    "# Exercices d'application\n",
    "\n",
    "## Frottements fluides\n",
    "\n",
    "````{admonition} Exercice \n",
    ":class: attention\n",
    "\n",
    "Démontrer qu'une force de frottements fluides linéaires est nécessairement non-conservatives.\n",
    "\n",
    "Indice: On cherchera à démontrer que le travail d'un trajet A vers B est nécessairement du même signe qu'un travail de B vers A.\n",
    "\n",
    "````\n",
    "\n",
    "## Relation force-énergie\n",
    "\n",
    "````{admonition} Exercice \n",
    ":class: attention\n",
    "\n",
    "Etablir dans chaque système de coordonnées les relations entre les composantes de la force et les dérivées partielles de l'énergie potentielle.\n",
    "\n",
    "````"
   ]
  }
 ],
 "metadata": {
  "jupytext": {
   "encoding": "# -*- coding: utf-8 -*-",
   "formats": "ipynb,md:myst",
   "split_at_heading": true,
   "text_representation": {
    "extension": ".md",
    "format_name": "myst",
    "format_version": 0.13,
    "jupytext_version": "1.10.3"
   }
  },
  "kernelspec": {
   "display_name": "Python 3",
   "language": "python",
   "name": "python3"
  },
  "language_info": {
   "codemirror_mode": {
    "name": "ipython",
    "version": 3
   },
   "file_extension": ".py",
   "mimetype": "text/x-python",
   "name": "python",
   "nbconvert_exporter": "python",
   "pygments_lexer": "ipython3",
   "version": "3.9.2"
  },
  "source_map": [
   15
  ]
 },
 "nbformat": 4,
 "nbformat_minor": 5
}