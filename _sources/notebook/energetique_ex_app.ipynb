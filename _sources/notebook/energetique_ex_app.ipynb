{
 "cells": [
  {
   "cell_type": "markdown",
   "id": "healthy-local",
   "metadata": {},
   "source": [
    "# Exercices d'application\n",
    "\n",
    "````{admonition} Frottements fluides \n",
    ":class: attention\n",
    "\n",
    "Démontrer qu'une force de frottements fluides linéaires est nécessairement non-conservatives.\n",
    "\n",
    "Indice: On cherchera à démontrer que le travail d'un trajet A vers B est nécessairement du même signe qu'un travail de B vers A.\n",
    "\n",
    "````\n",
    "\n",
    "````{admonition} Relation force-énergie\n",
    ":class: attention\n",
    "\n",
    "Etablir dans chaque système de coordonnées les relations entre les composantes de la force et les dérivées partielles de l'énergie potentielle.\n",
    "\n",
    "````\n",
    "\n",
    "````{admonition} Système conservatif\n",
    ":class: attention\n",
    "On considère un point matériel M de masse $m$ attaché au bas d'un ressort vertical de raideur k et de longueur à vide $l_0$. L'autre extrémité du ressort est attaché à un plafond fixe dans le référentiel terrestre supposé galiléen. On suppose le champ de pesanteur uniforme et on prend l'origine des _altitudes_ ($z=0$) quand la longueur du ressort est $l_0$.\n",
    "\n",
    "1. Déterminer l'énergie potentielle du système et montrer qu'il est conservatif en l'absence de frottements. Déduire _de l'énergie potentielle_ la position d'équilibre et vérifier sa stabilité.\n",
    "2. On lâche le mobile sans vitesse initiale de $z=0$. Déterminer les altitudes extrêmes $z_{min}$ et $z_{max}$ ainsi que la vitesse maximale du mobile.\n",
    "````"
   ]
  }
 ],
 "metadata": {
  "jupytext": {
   "encoding": "# -*- coding: utf-8 -*-",
   "formats": "ipynb,md:myst",
   "split_at_heading": true,
   "text_representation": {
    "extension": ".md",
    "format_name": "myst",
    "format_version": 0.13,
    "jupytext_version": "1.10.3"
   }
  },
  "kernelspec": {
   "display_name": "Python 3",
   "language": "python",
   "name": "python3"
  },
  "language_info": {
   "codemirror_mode": {
    "name": "ipython",
    "version": 3
   },
   "file_extension": ".py",
   "mimetype": "text/x-python",
   "name": "python",
   "nbconvert_exporter": "python",
   "pygments_lexer": "ipython3",
   "version": "3.9.2"
  },
  "source_map": [
   15
  ]
 },
 "nbformat": 4,
 "nbformat_minor": 5
}