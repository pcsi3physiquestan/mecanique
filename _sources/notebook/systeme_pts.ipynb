{
 "cells": [
  {
   "cell_type": "markdown",
   "id": "handmade-litigation",
   "metadata": {},
   "source": [
    "# Systèmes de points matériels\n",
    "\n",
    "````{admonition} Compétences\n",
    ":class: tip\n",
    "* Différencier un solide indéformable d'un système indéformable\n",
    "* Reconnaître et décrire une translation rectiligne, une translation circulaire\n",
    "* Décrire la trajectoire d'un point quelconque du solide et exprimer sa vitesse en fonction de sa distance à l'axe et de la vitesse angulaire dans le cas d'un solide en rotation autour d'un axe fixe.\n",
    "* Définir et situer qualitativement la position d'un centre d'inertie en fonction de la répartition de masse.\n",
    "* Etablir l'expression de la quantité de mouvement d'un système en rapport avec la vitesse du centre d'inertie et la masse totale du système.\n",
    "* Exploiter la relation entre le moment cinétique d'un solide en rotation autour d'un axe fixe, sa vitesse angulaire et son moment d'inertie autour de l'axe.\n",
    "* Relier qualitativement le moment d'inertie à la répartition de masse.\n",
    "* Utilisation la relation entre l'énergie cinétique d'un solide en rotation autour d'un axe fixe, sa vitesse angulaire et son moment d'inertie autour de l'axe.\n",
    "* Modéliser une action globale pour une force et un moment résultant.\n",
    "* Prévoir qualitativement ou quantitativement les positions de moment nul pour des forces usuelles (pesanteur).\n",
    "* Exploiter les lois de Coulomb dans les trois situations: équilibre, mise en mouvement, freinage.\n",
    "* Formuler une hypothèse sur un système en présence de frottements solide (modélisés par les lois de Coulomb) et la vérifier.\n",
    "* Quantifier l'influence de l'air par des actions linéaires ou quadratiques.\n",
    "* Définir un couple\n",
    "* Définir une liaison pivot et justifier le moment qu'elle peut produire.\n",
    "````"
   ]
  }
 ],
 "metadata": {
  "jupytext": {
   "encoding": "# -*- coding: utf-8 -*-",
   "formats": "ipynb,md:myst",
   "split_at_heading": true,
   "text_representation": {
    "extension": ".md",
    "format_name": "myst",
    "format_version": 0.13,
    "jupytext_version": "1.10.3"
   }
  },
  "kernelspec": {
   "display_name": "Python 3",
   "language": "python",
   "name": "python3"
  },
  "language_info": {
   "codemirror_mode": {
    "name": "ipython",
    "version": 3
   },
   "file_extension": ".py",
   "mimetype": "text/x-python",
   "name": "python",
   "nbconvert_exporter": "python",
   "pygments_lexer": "ipython3",
   "version": "3.9.2"
  },
  "source_map": [
   15
  ]
 },
 "nbformat": 4,
 "nbformat_minor": 5
}