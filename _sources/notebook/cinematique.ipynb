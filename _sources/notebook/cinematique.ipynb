{
 "cells": [
  {
   "cell_type": "markdown",
   "id": "b333f3a9",
   "metadata": {},
   "source": [
    "# Cinématique et cinétique du point\n",
    "\n",
    "````{admonition} Compétences\n",
    ":class: tip\n",
    "* Etablir les expressions du vecteur vitesse, du vecteur accélération et du vecteur position dans le cas des coordonnées cartésiennes et cylindriques.\n",
    "* Etablir les expressions du vecteur position et du vecteur vitesse dans le cas des coordonnées sphériques. Savoir établir l'expression du vecteur accélération dans des cas simples.\n",
    "* Etablir, à partir d'un schéma, le déplacement élémentaire dans les différents systèmes de coordonnées. Construire le tridère local associé à chaque système de coordonnées et en déduire les composantes du vecteur vitesse.\n",
    "* Choisir un système de coordonnées adapté au problème posé.\n",
    "* Cas du mouvement circulaire: Exprimer les composantes du vecteur position, du vecteur vitesse et du vecteur accélération en coordonnées polaires.\n",
    "* Cas du mouvement circulaire: Identifier le lien entre le vecteur accélération, la courbure de la trajectoire, la norme du vecteur vitesse et sa variation temporelle.\n",
    "* Situer qualitativement le vecteur accélération dans la concavité d'une trajectoire plane.\n",
    "* Connaître les caractéristiques cinétiques d'un point matériel et pouvoir les calculer dans différentes systèmes de coordonnées pour des mouvements usuels.\n",
    "* Relier la direction et le sens du vecteur moment cinétique aux caractéristiques du mouvement.\n",
    "````\n",
    "\n",
    "Nous allons commencer par étudier les mouvements de points matériels. Les mouvements d'un tel système sont décrits uniquement par ses mouvements de translation (rectiligne ou non). Il n'y a pas de _rotation_ d'un point sur lui même.  \n",
    "Nous allons présenter ses éléments _cinématiques_ (décrivant le mouvement sans matérialité du point) et _cinétiques_ (décrivant le mouvement du point avec son inertie : on tient compte de sa masse.)"
   ]
  }
 ],
 "metadata": {
  "jupytext": {
   "encoding": "# -*- coding: utf-8 -*-",
   "formats": "ipynb,md:myst",
   "split_at_heading": true,
   "text_representation": {
    "extension": ".md",
    "format_name": "myst",
    "format_version": 0.13,
    "jupytext_version": "1.10.3"
   }
  },
  "kernelspec": {
   "display_name": "Python 3",
   "language": "python",
   "name": "python3"
  },
  "language_info": {
   "codemirror_mode": {
    "name": "ipython",
    "version": 3
   },
   "file_extension": ".py",
   "mimetype": "text/x-python",
   "name": "python",
   "nbconvert_exporter": "python",
   "pygments_lexer": "ipython3",
   "version": "3.9.15"
  },
  "source_map": [
   15
  ]
 },
 "nbformat": 4,
 "nbformat_minor": 5
}