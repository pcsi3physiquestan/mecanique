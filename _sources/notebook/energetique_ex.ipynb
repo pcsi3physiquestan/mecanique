{
 "cells": [
  {
   "cell_type": "markdown",
   "id": "5b431a10",
   "metadata": {},
   "source": [
    "# S'entrainer\n",
    "* des exercices-types (Méthodes)\n",
    "* des activités (Activités) : pas d'activités\n",
    "* des exercices d'application (Application)\n",
    "* des exercices d'entrainement (Entrainement) :  En plus des exercices du cours, un devoir libre est dans le fascicule. Il traite des équilibre et de la notion de bifurcation.\n",
    "* des approfondissement (Aller plus loin) : Une étudede l'ammoniac est disponible en ligne. Plusieurs formes d'énoncés sont proposés : de la forme \"expert\" où presque aucune information n'est donnée à la forme \"standard\" ou l'exercice est très guidé."
   ]
  }
 ],
 "metadata": {
  "jupytext": {
   "encoding": "# -*- coding: utf-8 -*-",
   "formats": "ipynb,md:myst",
   "split_at_heading": true,
   "text_representation": {
    "extension": ".md",
    "format_name": "myst",
    "format_version": 0.13,
    "jupytext_version": "1.10.3"
   }
  },
  "kernelspec": {
   "display_name": "Python 3",
   "language": "python",
   "name": "python3"
  },
  "language_info": {
   "codemirror_mode": {
    "name": "ipython",
    "version": 3
   },
   "file_extension": ".py",
   "mimetype": "text/x-python",
   "name": "python",
   "nbconvert_exporter": "python",
   "pygments_lexer": "ipython3",
   "version": "3.9.15"
  },
  "source_map": [
   15
  ]
 },
 "nbformat": 4,
 "nbformat_minor": 5
}