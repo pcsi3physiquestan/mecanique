{
 "cells": [
  {
   "cell_type": "markdown",
   "id": "following-popularity",
   "metadata": {},
   "source": [
    "# Cas du mouvement circulaire\n",
    "\n",
    "## Mouvement circulaire: Généralités\n",
    "\n",
    "_On rappelle qu'un mouvement circulaire est un mouvement dont la trajectoire est portée par un cercle fixe dans le référentiel $\\mathfrak{R}$ considéré. On notera $R_0$ le rayon du cercle._\n",
    "\n",
    "\n",
    "````{important} __Système de coordonnées et expressions__\n",
    "\n",
    "Les coordonnées utiles pour un tel mouvement sont les coordonnées cylindriques d'axe Oz perpendiculaire au plan du cercle. On a alors les relations:\n",
    "\n",
    "\\begin{align*}\n",
    "\\overrightarrow{OM} &= r \\overrightarrow{e_r}\\\\\n",
    "\\overrightarrow{v_{M/\\mathfrak{R}}} &= r \\dot \\theta \\overrightarrow{e_{\\theta}}\\\\\n",
    "\\overrightarrow{a_{M/\\mathfrak{R}}} &= - r \\dot \\theta ^2 \\overrightarrow{e_r} + r \\ddot \\theta \\overrightarrow{e_{\\theta}}\n",
    "\\end{align*}\n",
    "````\n",
    "````{important} __Accélération tangentielle et normale__\n",
    "\n",
    "Remarquons que la direction radiale $e_{r}$ est  toujours perpendiculaire au mouvement et la direction orthoradiale $e_{\\theta}$ est  toujours tangente au mouvement. Il vient que:\n",
    "\n",
    "* L'accélération tangentielle vaut: $\\overrightarrow{a_T} = R_0 \\ddot \\theta  \\overrightarrow{e_{\\theta}} = \\frac{dv}{dt} \\overrightarrow{e_\\theta}$ où $v$ est la __composante__ de l'accélération sur $e_{\\theta}$.\n",
    "* L'accélération normale vaut: $\\overrightarrow{a_N} = -R_0 \\dot \\theta^2 \\overrightarrow{e_r} = - \\frac{v^2}{R_0} \\overrightarrow{e_r}$\n",
    "````\n",
    "\n",
    "````{important} __Vecteur tournant__\n",
    "\n",
    "On définit le vecteur tournant comme: $\\overrightarrow{\\Omega} = \\omega \\overrightarrow{e_z}$\n",
    "\n",
    "\\begin{align}\n",
    "    \\overrightarrow{v_{M/R}} &= \\overrightarrow{\\Omega} \\wedge \\overrightarrow{OM}\\\\\n",
    "    \\overrightarrow{a_{M/R}} &= \\frac{d \\overrightarrow{\\Omega}}{dt} \\wedge \\overrightarrow{OM} + \\overrightarrow{\\Omega} \\wedge \\overrightarrow{v}\n",
    "\\end{align}\n",
    "__Vous devez savoir prouver ces formules.__\n",
    "````\n",
    "\n",
    "## Cas d'un mouvement circulaire uniforme\n",
    "\n",
    "````{important} __Expressions__\n",
    "\n",
    "Dans le cas d'un mouvement circulaire uniforme, il vient que l'accélération est purement centripète: elle est bien orthogonale au mouvement. Son expression est alors: $\\overrightarrow{a_{M/\\mathfrak{R}}} = - \\frac{v^2}{R} \\overrightarrow{e_r}$\n",
    "````"
   ]
  }
 ],
 "metadata": {
  "jupytext": {
   "encoding": "# -*- coding: utf-8 -*-",
   "formats": "ipynb,md:myst",
   "split_at_heading": true,
   "text_representation": {
    "extension": ".md",
    "format_name": "myst",
    "format_version": 0.13,
    "jupytext_version": "1.10.3"
   }
  },
  "kernelspec": {
   "display_name": "Python 3",
   "language": "python",
   "name": "python3"
  },
  "language_info": {
   "codemirror_mode": {
    "name": "ipython",
    "version": 3
   },
   "file_extension": ".py",
   "mimetype": "text/x-python",
   "name": "python",
   "nbconvert_exporter": "python",
   "pygments_lexer": "ipython3",
   "version": "3.9.2"
  },
  "source_map": [
   15
  ]
 },
 "nbformat": 4,
 "nbformat_minor": 5
}