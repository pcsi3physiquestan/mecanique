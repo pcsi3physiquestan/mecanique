{
 "cells": [
  {
   "cell_type": "markdown",
   "id": "outside-specific",
   "metadata": {},
   "source": [
    "# S'entrainer\n",
    "* exercices-types (Méthodes)\n",
    "* des activités (Activités) : Solide en rotation\n",
    "* des exercices d'application (Application)\n",
    "* des exercices d'entrainement (Entrainement) : Un devoir libre est proposés [ici](https://stanislas.edunao.com/mod/resource/view.php?id=12850).\n",
    "* des approfondissement (Aller plus loin) : Une étude [des interactions entre particule](https://stanislas.edunao.com/mod/resource/view.php?id=12859) pour aller vers la thermodynamique."
   ]
  }
 ],
 "metadata": {
  "jupytext": {
   "encoding": "# -*- coding: utf-8 -*-",
   "formats": "ipynb,md:myst",
   "split_at_heading": true,
   "text_representation": {
    "extension": ".md",
    "format_name": "myst",
    "format_version": 0.13,
    "jupytext_version": "1.10.3"
   }
  },
  "kernelspec": {
   "display_name": "Python 3",
   "language": "python",
   "name": "python3"
  },
  "language_info": {
   "codemirror_mode": {
    "name": "ipython",
    "version": 3
   },
   "file_extension": ".py",
   "mimetype": "text/x-python",
   "name": "python",
   "nbconvert_exporter": "python",
   "pygments_lexer": "ipython3",
   "version": "3.9.2"
  },
  "source_map": [
   15
  ]
 },
 "nbformat": 4,
 "nbformat_minor": 5
}