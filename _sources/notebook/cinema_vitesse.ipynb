{
 "cells": [
  {
   "cell_type": "markdown",
   "id": "naked-transcription",
   "metadata": {},
   "source": [
    "# Vecteur vitesse\n",
    "\n",
    "## Vecteur vitesse: Définition\n",
    "\n",
    "````{important} __Définition : Vecteur vitesse__\n",
    "\n",
    "Soit O un point fixe du référentiel R et M un point mobile. La vitesse du point M dans le référentiel R est définit comme la dérivée temporelle du vecteur position dans le référentiel R.\n",
    "\n",
    "\\begin{equation}\n",
    "\\overrightarrow{V_{M/R}} = {(\\frac{d \\overrightarrow{OM}}{dt})}_{R}\n",
    "\\end{equation}\n",
    "````\n",
    "\n",
    "````{attention}\n",
    "\n",
    "Il est important de préciser le référentiel d'étude: il définit les vecteurs qu'on considère fixe. Dans un premier temps, il n'y aura qu'un seul référentiel.\n",
    "\n",
    "````\n",
    "\n",
    "## Expression du vecteur vitesse\n",
    "\n",
    "````{important} __Fondamental : Expressions du vecteur vitesse__\n",
    "\n",
    "Le vecteur vitesse s'exprime.\n",
    "\n",
    "En coordonnées cartésiennes:\n",
    "\n",
    "\\begin{equation}\n",
    "\\overrightarrow{v_{M/\\mathfrak{R}}} = \\dot x \\overrightarrow{e_x} + \\dot y \\overrightarrow{e_y} + \\dot z \\overrightarrow{e_z}\n",
    "\\end{equation}\n",
    "En coordonnées cyindriques:\n",
    "\n",
    "\\begin{equation}\n",
    "\\overrightarrow{v_{M/\\mathfrak{R}}} = \\dot r \\overrightarrow{e_r} + r \\dot \\theta \\overrightarrow{e_\\theta} + \\dot z \\overrightarrow{e_z}\n",
    "\\end{equation}\n",
    "En coordonnées spheriques:\n",
    "\n",
    "\\begin{equation}\n",
    "\\overrightarrow{v_{M/\\mathfrak{R}}} = \\dot r \\overrightarrow{e_r} + r \\dot \\theta \\overrightarrow{e_\\theta} + r \\sin{\\theta} \\dot \\varphi \\overrightarrow{e_\\varphi}\n",
    "\\end{equation}\n",
    "````\n",
    "\n",
    "\n",
    "> __Démonstration__\n",
    "> On peut démontrer ces expressions de deux manières: soit en dérivant le vecteur position (il faut tenir compte des dérivées des vecteurs des bases locales, nous le verrons en traitant le cas du vecteur accélération) ou en utilisant l'expression du vecteur déplacement élémentaire. Nous présentons ce dernier cas. On rappelle que le déplacement élémentaire s'exprime (respectivement en coordonnées cartésiennes, cylindriques, sphériques):\n",
    "> \n",
    "> \\begin{equation}\n",
    "\\overrightarrow{dOM} = dx \\overrightarrow{e_x} + dy \\overrightarrow{e_y} + dz \\overrightarrow{e_z}\n",
    "\\end{equation}\n",
    "> \\begin{equation}\n",
    "\\overrightarrow{dOM} = dr \\overrightarrow{e_r} + r d \\theta \\overrightarrow{e_{\\theta}} + dz \\overrightarrow{e_z}\n",
    "\\end{equation}\n",
    "> \\begin{equation}\n",
    "\\overrightarrow{dOM} = dr \\overrightarrow{e_r} + r d \\theta \\overrightarrow{e_{\\theta}} + r \\sin \\theta d\\varphi \\overrightarrow{e_{\\varphi}}\n",
    "\\end{equation}\n",
    "> Ici, on rapport le déplacement élémentaire à la variation temporelle dt pendant lequel le déplacement se fait, ce qui revient à rapporter chaque différentielle ($dx, dy, d\\theta, dr...$) par dt, c'est-à-dire les remplacer par les dérivées. On obtient bien les expressions données.\n",
    "\n",
    "\n",
    "````{attention}\n",
    "\n",
    "Dans le cadre d'une démonstration des expressions des vecteurs vitesses, il __faut redémontrer l'expression des déplacements élémentaires.__\n",
    "\n",
    "````"
   ]
  }
 ],
 "metadata": {
  "jupytext": {
   "encoding": "# -*- coding: utf-8 -*-",
   "formats": "ipynb,md:myst",
   "split_at_heading": true,
   "text_representation": {
    "extension": ".md",
    "format_name": "myst",
    "format_version": 0.13,
    "jupytext_version": "1.10.3"
   }
  },
  "kernelspec": {
   "display_name": "Python 3",
   "language": "python",
   "name": "python3"
  },
  "language_info": {
   "codemirror_mode": {
    "name": "ipython",
    "version": 3
   },
   "file_extension": ".py",
   "mimetype": "text/x-python",
   "name": "python",
   "nbconvert_exporter": "python",
   "pygments_lexer": "ipython3",
   "version": "3.9.2"
  },
  "source_map": [
   15
  ]
 },
 "nbformat": 4,
 "nbformat_minor": 5
}