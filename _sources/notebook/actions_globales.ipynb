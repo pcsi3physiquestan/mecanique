{
 "cells": [
  {
   "cell_type": "markdown",
   "id": "knowing-framing",
   "metadata": {},
   "source": [
    "# Modélisation des actions globales\n",
    "\n",
    "````{admonition} Objectifs\n",
    ":class: hint\n",
    "* Modéliser une action globale pour une force et un moment résultant.\n",
    "* Prévoir qualitativement ou quantitativement les positions de moment nul pour des forces usuelles (pesanteur).\n",
    "* Exploiter les lois de Coulomb dans les trois situations: équilibre, mise en mouvement, freinage.\n",
    "* Formuler une hypothèse sur un système en présence de frottements solide (modélisés par les lois de Coulomb) et la vérifier.\n",
    "* Quantifier l'influence de l'air par des actions linéaires ou quadratiques.\n",
    "* Définir un couple\n",
    "* Définir une liaison pivot et justifier le moment qu'elle peut produire.\n",
    "````"
   ]
  }
 ],
 "metadata": {
  "jupytext": {
   "encoding": "# -*- coding: utf-8 -*-",
   "formats": "ipynb,md:myst",
   "split_at_heading": true,
   "text_representation": {
    "extension": ".md",
    "format_name": "myst",
    "format_version": 0.13,
    "jupytext_version": "1.10.3"
   }
  },
  "kernelspec": {
   "display_name": "Python 3",
   "language": "python",
   "name": "python3"
  },
  "language_info": {
   "codemirror_mode": {
    "name": "ipython",
    "version": 3
   },
   "file_extension": ".py",
   "mimetype": "text/x-python",
   "name": "python",
   "nbconvert_exporter": "python",
   "pygments_lexer": "ipython3",
   "version": "3.9.2"
  },
  "source_map": [
   15
  ]
 },
 "nbformat": 4,
 "nbformat_minor": 5
}