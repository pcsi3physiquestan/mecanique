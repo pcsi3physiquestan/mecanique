{
 "cells": [
  {
   "cell_type": "markdown",
   "id": "d4231347",
   "metadata": {},
   "source": [
    "# Oscillateurs\n",
    "\n",
    "````{admonition} Compétences\n",
    ":class: tip\n",
    "* Mettre en évidence la similitude des comportements des oscillateurs mécanique et électronique\n",
    "* Analyser, sur des relevés expérimentaux, l'évolution de la forme des régimes transitoires en fonction des paramètres caractéristiques\n",
    "* Prévoir l'évolution du système à partir de considérations énergétiques\n",
    "* Connaître la nature de la réponse en fonction de la valeur du facteur de qualité.\n",
    "* Déterminer la réponse détaillée à partir des racines du polynômes caractéristiques.\n",
    "* Déterminer un ordre de grandeur de la durée du régime transitoire, selon la valeur du facteur de qualité.\n",
    "* Mettre en évidence le rôle du facteur de qualité pour l'étude de la résonance en élongation.\n",
    "* Relier l'acuité d'une résonance forte au facteur de qualité.\n",
    "* Déterminer la pulsation propre et le facteur de qualité à partir de graphes expérimentaux d'amplitude et de phase.\n",
    "* Expliquer la complémentarité des informations présentes sur les graphes d'amplitude et de phase, en particulier dans le cas de résonance d'élongation de facteur de qualité modéré.\n",
    "* Remarque:  Les compétences générales d'analyse des filtres sont aussi importantes pour ce chapitre.\n",
    "````"
   ]
  }
 ],
 "metadata": {
  "jupytext": {
   "encoding": "# -*- coding: utf-8 -*-",
   "formats": "ipynb,md:myst",
   "split_at_heading": true,
   "text_representation": {
    "extension": ".md",
    "format_name": "myst",
    "format_version": 0.13,
    "jupytext_version": "1.10.3"
   }
  },
  "kernelspec": {
   "display_name": "Python 3",
   "language": "python",
   "name": "python3"
  },
  "language_info": {
   "codemirror_mode": {
    "name": "ipython",
    "version": 3
   },
   "file_extension": ".py",
   "mimetype": "text/x-python",
   "name": "python",
   "nbconvert_exporter": "python",
   "pygments_lexer": "ipython3",
   "version": "3.9.15"
  },
  "source_map": [
   15
  ]
 },
 "nbformat": 4,
 "nbformat_minor": 5
}