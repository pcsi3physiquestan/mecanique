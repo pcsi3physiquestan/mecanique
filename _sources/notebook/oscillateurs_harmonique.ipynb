{
 "cells": [
  {
   "cell_type": "markdown",
   "id": "3a01120f",
   "metadata": {},
   "source": [
    "# Oscillateur harmonique\n",
    "\n",
    "## Oscillateur harmonique: Equation\n",
    "\n",
    "````{important} __Equation différentielle d'un oscillateur harmonique__\n",
    "\n",
    "Un oscillateur harmonique est un système dont l'équation d'évolution s'écrit:\n",
    "\n",
    "\\begin{equation}\n",
    "\\frac{\\rm{d^2}x}{\\rm{dt^2}}(t) + \\omega_0^2 x(t) = \\omega_{0}^2 x_{eq}\n",
    "\\end{equation}\n",
    "On rappelle qu'on peut annuler le second membre __constant__ en procédant à un changement de variable $X = x - x_{eq}$. Pour la suite, on étudiera directement l'équation sans second membre.\n",
    "\n",
    "````\n",
    "\n",
    "````{important} __Energie potentielle__\n",
    "\n",
    "La résultante des forces en mécanique s'écrit donc sous la forme $\\overrightarrow{F} = - k x \\overrightarrow{e_x}$ et elle dérive d'une énergie potentielle sous la forme $E_p = \\frac{1}{2}k x^2$\n",
    "\n",
    "Attention: ces expressions seront à modifier suivant le système de coordonnées choisi.\n",
    "````\n",
    "\n",
    "## Evolution temporelle\n",
    "\n",
    "````{admonition} Exercice \n",
    ":class: attention\n",
    "\n",
    "1. Donner les deux formes générales de $X(t)$\n",
    "1. Déterminer les constantes d'intégration sous les deux formes pour des conditions initialles à $t=0$: $x(t=0) = x_0; v(t=0) = v_0$.\n",
    "1. Vérifier qu'il y a __isochronisme__ des oscillations.\n",
    "1. Représenter graphiquement l'évolution temporelle de $X(t)$.\n",
    "\n",
    "````\n",
    "\n",
    "## Evolution énergétique\n",
    "\n",
    "````{admonition} Exercice \n",
    ":class: attention\n",
    "\n",
    "On suppose que les oscillations sont d'amplitude $x_0$.\n",
    "\n",
    "1. Exprimer l'énergie potentielle et l'énergie cinétique au cours du temps.\n",
    "1. En déduire l'expression de l'énergie mécanique\n",
    "1. On a représenté graphiquement l'évolution temporelle des grandeurs énergétiques. Commenter les échanges d'énergie.\n",
    "\n",
    "```{figure} ./images/meca_epec_harmonique.jpg\n",
    ":name: fig_248\n",
    ":align: center\n",
    "\n",
    "```\n",
    "\n",
    "````"
   ]
  }
 ],
 "metadata": {
  "jupytext": {
   "encoding": "# -*- coding: utf-8 -*-",
   "formats": "ipynb,md:myst",
   "split_at_heading": true,
   "text_representation": {
    "extension": ".md",
    "format_name": "myst",
    "format_version": 0.13,
    "jupytext_version": "1.10.3"
   }
  },
  "kernelspec": {
   "display_name": "Python 3",
   "language": "python",
   "name": "python3"
  },
  "language_info": {
   "codemirror_mode": {
    "name": "ipython",
    "version": 3
   },
   "file_extension": ".py",
   "mimetype": "text/x-python",
   "name": "python",
   "nbconvert_exporter": "python",
   "pygments_lexer": "ipython3",
   "version": "3.7.12"
  },
  "source_map": [
   15
  ]
 },
 "nbformat": 4,
 "nbformat_minor": 5
}