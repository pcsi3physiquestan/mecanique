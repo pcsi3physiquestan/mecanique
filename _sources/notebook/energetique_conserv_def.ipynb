{
 "cells": [
  {
   "cell_type": "markdown",
   "id": "computational-studio",
   "metadata": {},
   "source": [
    "# Système conservatif: Définition\n",
    "\n",
    "````{admonition} Définition : Système conservatif\n",
    ":class: tip\n",
    "\n",
    "Un système mécanique est dit conservatif si son énergie mécanique est conservé durant le mouvement. Cela implique que les seules forces qui s'appliquent sur le système sont conservatives ou ne travaillent pas.\n",
    "\n",
    "````\n",
    "\n",
    "\n",
    "__Intérêt__\n",
    "Les systèmes conservatifs présentent de nombreux intérêts. Tout d'abord, à l'échelle microscopique, les systèmes sont a priori conservatifs puisque toutes les forces dérivent d'une énergie potentielle. De plus, l'étude des systèmes conservatifs peut se faire à partir d'outils très puissants d'analyse de l'énergie potentielle.\n",
    "\n",
    "\n",
    "# Systèmes conservatifs: Propriétés générales\n",
    "\n",
    "## Positivité de l'énergie cinétique\n",
    "\n",
    "````{admonition} Fondamental : Positivité de l'énergie cinétique\n",
    ":class: attention\n",
    "\n",
    "Cette propriété est bien plus générale mais elle a des conséquences particulière dans les mouvements conservatifs. En effet, __l'énergie cinétique est positive ou nulle__.\n",
    "\n",
    "Il vient que l'énergie potentielle du mobile doit nécessairement être inférieure ou égale à l'énergie mécanique.\n",
    "\n",
    "Dans le cas d'un système conservatif où l'énergie mécanique est une constante, cela signifie que l'énergie potentielle est majorée et que __les zones de l'espace où l'énergie potentielle est supérieure à l'énergie mécanique sont des zones inaccessibles pour le système. On parle de barrières de potentiels.__\n",
    "\n",
    "De plus, si le système atteint un point où l'énergie potentielle égale l'énergie mécanique, alors en ces points, la vitesse du mobile s'annule (puisque l'énergie cinétique y est nulle). C'est en général un point de rebroussement du système.\n",
    "````\n",
    "\n",
    "## Position d'équilibre\n",
    "\n",
    "````{admonition} Fondamental : Position d'équilibre et énergie potentielle\n",
    ":class: attention\n",
    "\n",
    "Nous étudierons plus en détail cette propriété pour les système conservatifs à 1 degré de liberté mais on peut déjà remarqué que les positions d'équilibre correspondent à des extrema d'énergi potentielle (maximum, minimum ou point col). En effet, la résultante des forces est nulle en une position d'équilibre. Or la force étant moins le gradient de l'énergie potentielle, il vient la propriété précédente (dans un système conservatif, la résultante des forces dérive d'une énergie potentielle).\n",
    "````"
   ]
  }
 ],
 "metadata": {
  "jupytext": {
   "encoding": "# -*- coding: utf-8 -*-",
   "formats": "ipynb,md:myst",
   "split_at_heading": true,
   "text_representation": {
    "extension": ".md",
    "format_name": "myst",
    "format_version": 0.13,
    "jupytext_version": "1.10.3"
   }
  },
  "kernelspec": {
   "display_name": "Python 3",
   "language": "python",
   "name": "python3"
  },
  "language_info": {
   "codemirror_mode": {
    "name": "ipython",
    "version": 3
   },
   "file_extension": ".py",
   "mimetype": "text/x-python",
   "name": "python",
   "nbconvert_exporter": "python",
   "pygments_lexer": "ipython3",
   "version": "3.9.2"
  },
  "source_map": [
   15
  ]
 },
 "nbformat": 4,
 "nbformat_minor": 5
}