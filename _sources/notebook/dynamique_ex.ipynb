{
 "cells": [
  {
   "cell_type": "markdown",
   "id": "cbad57e8",
   "metadata": {},
   "source": [
    "# S'entrainer\n",
    "* exercices-types (Méthodes)\n",
    "* des activités (Activités) : pas d'activités\n",
    "* des exercices d'application (Application)\n",
    "* des exercices d'entrainement (Entrainement) :  : En plus des exercices du cours, un devoir libre est accessible dans le fascicule. _Attention, il est assez difficile._\n",
    "* des approfondissement (Aller plus loin)"
   ]
  }
 ],
 "metadata": {
  "jupytext": {
   "encoding": "# -*- coding: utf-8 -*-",
   "formats": "ipynb,md:myst",
   "split_at_heading": true,
   "text_representation": {
    "extension": ".md",
    "format_name": "myst",
    "format_version": 0.13,
    "jupytext_version": "1.10.3"
   }
  },
  "kernelspec": {
   "display_name": "Python 3",
   "language": "python",
   "name": "python3"
  },
  "language_info": {
   "codemirror_mode": {
    "name": "ipython",
    "version": 3
   },
   "file_extension": ".py",
   "mimetype": "text/x-python",
   "name": "python",
   "nbconvert_exporter": "python",
   "pygments_lexer": "ipython3",
   "version": "3.9.15"
  },
  "source_map": [
   15
  ]
 },
 "nbformat": 4,
 "nbformat_minor": 5
}