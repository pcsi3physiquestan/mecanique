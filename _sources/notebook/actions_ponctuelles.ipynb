{
 "cells": [
  {
   "cell_type": "markdown",
   "id": "intense-luther",
   "metadata": {},
   "source": [
    "# Modélisation des actions. Cas des actions ponctuelles.\n",
    "\n",
    "````{admonition} Objectifs\n",
    ":class: tip\n",
    "* Établir un bilan des actions sur un système ou plusieurs systèmes en interaction.\n",
    "* Établir une relation graphique ou analytique entre des forces modélisant des actions sur un point matériel dans un cas statique.\n",
    "* Prévoir qualitativement l'effet d'une force résultante l'évolution d'un point matériel.\n",
    "* Connaître les cas d'actions ponctuelles usuelles et leurs expressions: rappel d'un ressort, interaction gravitationnelle, interaction coulombiennes, force de Lorentz, action du champ de pesanteur, tension d'un fil... \n",
    "* Calculer le moment d'une action ponctuelle sur un axe ou par rapport à un point.\n",
    "* Interprêter le moment d'une action ponctuelle en terme d'effet sur la rotation d'un point matériel.\n",
    "````"
   ]
  }
 ],
 "metadata": {
  "jupytext": {
   "encoding": "# -*- coding: utf-8 -*-",
   "formats": "ipynb,md:myst",
   "split_at_heading": true,
   "text_representation": {
    "extension": ".md",
    "format_name": "myst",
    "format_version": 0.13,
    "jupytext_version": "1.10.3"
   }
  },
  "kernelspec": {
   "display_name": "Python 3",
   "language": "python",
   "name": "python3"
  },
  "language_info": {
   "codemirror_mode": {
    "name": "ipython",
    "version": 3
   },
   "file_extension": ".py",
   "mimetype": "text/x-python",
   "name": "python",
   "nbconvert_exporter": "python",
   "pygments_lexer": "ipython3",
   "version": "3.9.2"
  },
  "source_map": [
   15
  ]
 },
 "nbformat": 4,
 "nbformat_minor": 5
}