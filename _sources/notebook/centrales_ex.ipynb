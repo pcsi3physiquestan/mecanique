{
 "cells": [
  {
   "cell_type": "markdown",
   "id": "b56b2514",
   "metadata": {},
   "source": [
    "# S'entrainer\n",
    "* exercices-types (Méthodes)\n",
    "* des activités (Activités) : Ordre de grandeur, \n",
    "* des exercices d'application (Application)\n",
    "* des exercices d'entrainement (Entrainement)\n",
    "* des approfondissement (Aller plus loin) : Deux approfondissements pour ce chapitre : une comparaison des force à l'échelle macroscopique et une étude [de la diffusion de Rutherford sous forme de résolution de problème](https://stanislas.edunao.com/mod/resource/view.php?id=12858)."
   ]
  }
 ],
 "metadata": {
  "jupytext": {
   "encoding": "# -*- coding: utf-8 -*-",
   "formats": "ipynb,md:myst",
   "split_at_heading": true,
   "text_representation": {
    "extension": ".md",
    "format_name": "myst",
    "format_version": 0.13,
    "jupytext_version": "1.10.3"
   }
  },
  "kernelspec": {
   "display_name": "Python 3",
   "language": "python",
   "name": "python3"
  },
  "language_info": {
   "codemirror_mode": {
    "name": "ipython",
    "version": 3
   },
   "file_extension": ".py",
   "mimetype": "text/x-python",
   "name": "python",
   "nbconvert_exporter": "python",
   "pygments_lexer": "ipython3",
   "version": "3.7.12"
  },
  "source_map": [
   15
  ]
 },
 "nbformat": 4,
 "nbformat_minor": 5
}