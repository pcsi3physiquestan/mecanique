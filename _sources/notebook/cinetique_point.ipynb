{
 "cells": [
  {
   "cell_type": "markdown",
   "id": "2184d787",
   "metadata": {},
   "source": [
    "# Cinétique du point\n",
    "\n",
    "Il s'agit d'une partie très courte ayant pour but d'apprendre à calculer les caractéristiques __cinétiques__ qu'on associe à un point __matériel__. La matérialité d'un point introduit son __inertie__. Il s'agit du concept physique qui permettra de faire le lien entre les actions du milieu extérieur et le mouvement du système mécanique. Nous apprendrons à calculer ces caractéristiques et donnerons un sens au __moment cinétique__ qui nous servira à étudier les rotations et les mouvements circulaires (entre autre... )."
   ]
  }
 ],
 "metadata": {
  "jupytext": {
   "encoding": "# -*- coding: utf-8 -*-",
   "formats": "ipynb,md:myst",
   "split_at_heading": true,
   "text_representation": {
    "extension": ".md",
    "format_name": "myst",
    "format_version": 0.13,
    "jupytext_version": "1.10.3"
   }
  },
  "kernelspec": {
   "display_name": "Python 3",
   "language": "python",
   "name": "python3"
  },
  "language_info": {
   "codemirror_mode": {
    "name": "ipython",
    "version": 3
   },
   "file_extension": ".py",
   "mimetype": "text/x-python",
   "name": "python",
   "nbconvert_exporter": "python",
   "pygments_lexer": "ipython3",
   "version": "3.7.12"
  },
  "source_map": [
   15
  ]
 },
 "nbformat": 4,
 "nbformat_minor": 5
}