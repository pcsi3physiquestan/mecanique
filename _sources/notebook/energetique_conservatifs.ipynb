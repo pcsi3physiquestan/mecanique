{
 "cells": [
  {
   "cell_type": "markdown",
   "id": "resident-switch",
   "metadata": {},
   "source": [
    "# Systèmes conservatifs\n",
    "\n",
    "````{admonition} Objectifs\n",
    ":class: tip\n",
    "Toutes ces compétences concernent les systèmes conservatifs.\n",
    "\n",
    "* Déduire d'un graphe d'énergie potentielle le comportement qualitatif: trajectoire bornée ou non, mouvement périodique, positions de vitesse nulle.\n",
    "* Déduire d'un graphe d'énergie potentielle l'existence de positions d'équilibre, et la nature stable ou instable de ces positions.\n",
    "* Identifier le cas des petits mouvements autour d'une position d'équilibre stable au modèle de l'oscillateur harmonique\n",
    "* Mettre en évidence les effets non linéaires lorsqu'on s'éloigne du voisinage d'une position d'équilibre.\n",
    "* Evaluer l'énergie minimale pour franchir une barrière de potentiel.\n",
    "````\n",
    "\n",
    "Dans toute l'étude, on supposera que le système est ponctuel. Plusieurs caractéristiques peuvent se généraliser aux systèmes de points mais ces derniers possédant normalement plusieurs degré de liberté, la généralisation peut devenir quelques fois complexes."
   ]
  }
 ],
 "metadata": {
  "jupytext": {
   "encoding": "# -*- coding: utf-8 -*-",
   "formats": "ipynb,md:myst",
   "split_at_heading": true,
   "text_representation": {
    "extension": ".md",
    "format_name": "myst",
    "format_version": 0.13,
    "jupytext_version": "1.10.3"
   }
  },
  "kernelspec": {
   "display_name": "Python 3",
   "language": "python",
   "name": "python3"
  },
  "language_info": {
   "codemirror_mode": {
    "name": "ipython",
    "version": 3
   },
   "file_extension": ".py",
   "mimetype": "text/x-python",
   "name": "python",
   "nbconvert_exporter": "python",
   "pygments_lexer": "ipython3",
   "version": "3.9.2"
  },
  "source_map": [
   15
  ]
 },
 "nbformat": 4,
 "nbformat_minor": 5
}